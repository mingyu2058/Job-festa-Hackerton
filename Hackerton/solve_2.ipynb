{
 "cells": [
  {
   "cell_type": "code",
   "execution_count": 1,
   "id": "7bbf86e9",
   "metadata": {},
   "outputs": [],
   "source": [
    "from tensorflow.keras.models import Sequential\n",
    "from tensorflow.keras.layers import Dense\n",
    "from tensorflow.keras import optimizers\n",
    "import numpy as np\n",
    "import matplotlib.pyplot as plt\n",
    "import pandas as pd"
   ]
  },
  {
   "cell_type": "code",
   "execution_count": 2,
   "id": "ddf6b88a",
   "metadata": {},
   "outputs": [],
   "source": [
    "fuel_df = pd.read_csv('./2번/train.csv')"
   ]
  },
  {
   "cell_type": "code",
   "execution_count": 3,
   "id": "44fb52eb",
   "metadata": {},
   "outputs": [],
   "source": [
    "# feature variable to X\n",
    "X = fuel_df[['feature_0', 'feature_1', 'feature_2', 'feature_3', 'feature_4',\n",
    "       'feature_5', 'feature_6', 'feature_7', 'feature_8', 'feature_9',\n",
    "       'feature_10', 'feature_11', 'feature_12', 'feature_13', 'feature_14',\n",
    "       'feature_15', 'feature_16', 'feature_17', 'feature_18', 'feature_19',\n",
    "       'feature_20', 'feature_21', 'feature_22', 'feature_23', 'feature_24',\n",
    "       'feature_25', 'feature_26', 'feature_27', 'feature_28', 'feature_29',\n",
    "       'feature_30', 'feature_31', 'feature_32', 'feature_33', 'feature_34',\n",
    "       'feature_35', 'feature_36', 'feature_37', 'feature_38', 'feature_39',\n",
    "       'feature_40', 'feature_41', 'feature_42', 'feature_43', 'feature_44',\n",
    "       'feature_45', 'feature_46', 'feature_47', 'feature_48', 'feature_49',\n",
    "       'feature_50', 'feature_51', 'feature_52', 'feature_53', 'feature_54',\n",
    "       'feature_55', 'feature_56', 'feature_57', 'feature_58', 'feature_59',\n",
    "       'feature_60', 'feature_61', 'feature_62', 'feature_63', 'feature_64',\n",
    "       'feature_65', 'feature_66', 'feature_67', 'feature_68', 'feature_69',\n",
    "       'feature_70', 'feature_71', 'feature_72', 'feature_73', 'feature_74',\n",
    "       'feature_75', 'feature_76', 'feature_77', 'feature_78', 'feature_79',\n",
    "       'feature_80']]\n",
    "\n",
    "# response target variable to y\n",
    "y = fuel_df['target']"
   ]
  },
  {
   "cell_type": "code",
   "execution_count": 4,
   "id": "166c0d9b",
   "metadata": {},
   "outputs": [],
   "source": [
    "from sklearn.model_selection import train_test_split\n",
    "\n",
    "X_train, X_test, y_train, y_test = train_test_split(X, y, train_size=0.7 , random_state=100)"
   ]
  },
  {
   "cell_type": "code",
   "execution_count": 5,
   "id": "12b07b53",
   "metadata": {},
   "outputs": [],
   "source": [
    "from tensorflow.keras import Sequential\n",
    "from tensorflow.keras.layers import Dense\n"
   ]
  },
  {
   "cell_type": "code",
   "execution_count": 6,
   "id": "a1f5aee0",
   "metadata": {},
   "outputs": [],
   "source": [
    "X_train = np.log1p(X_train)"
   ]
  },
  {
   "cell_type": "code",
   "execution_count": null,
   "id": "671d9f5e",
   "metadata": {},
   "outputs": [],
   "source": [
    "from sklearn.preprocessing import RobustScaler\n",
    "robustScaler = RobustScaler()\n",
    "print(robustScaler.fit(X_train))\n",
    "X_train = robustScaler.transform(X_train)\n",
    "#X_test = robustScaler.transform(X_test)"
   ]
  },
  {
   "cell_type": "code",
   "execution_count": null,
   "id": "1415ce64",
   "metadata": {},
   "outputs": [],
   "source": [
    "from sklearn.preprocessing import StandardScaler, MinMaxScaler, PolynomialFeatures\n",
    "#X_train = np.log1p(X_train)\n",
    "#X_test = np.log1p(X_test)"
   ]
  },
  {
   "cell_type": "code",
   "execution_count": 7,
   "id": "8376d4ba",
   "metadata": {},
   "outputs": [
    {
     "name": "stdout",
     "output_type": "stream",
     "text": [
      "MinMaxScaler()\n"
     ]
    }
   ],
   "source": [
    "from sklearn.preprocessing import MinMaxScaler\n",
    "minMaxScaler = MinMaxScaler()\n",
    "print(minMaxScaler.fit(X_train))\n",
    "X_train = minMaxScaler.transform(X_train)"
   ]
  },
  {
   "cell_type": "code",
   "execution_count": 8,
   "id": "0725728d",
   "metadata": {},
   "outputs": [
    {
     "name": "stdout",
     "output_type": "stream",
     "text": [
      "StandardScaler()\n"
     ]
    }
   ],
   "source": [
    "from sklearn.preprocessing import StandardScaler\n",
    "standardScaler = StandardScaler()\n",
    "\n",
    "print(standardScaler.fit(X_train))\n",
    "X_train = standardScaler.transform(X_train)"
   ]
  },
  {
   "cell_type": "code",
   "execution_count": null,
   "id": "e505fe22",
   "metadata": {},
   "outputs": [],
   "source": [
    "#from sklearn.preprocessing import StandardScaler, MinMaxScaler, PolynomialFeatures\n",
    "#X_train = np.log1p(X_train)"
   ]
  },
  {
   "cell_type": "code",
   "execution_count": 9,
   "id": "c57c0422",
   "metadata": {},
   "outputs": [],
   "source": [
    "model = Sequential()"
   ]
  },
  {
   "cell_type": "code",
   "execution_count": 10,
   "id": "5cd6039a",
   "metadata": {},
   "outputs": [],
   "source": [
    "def build_model(num_input=1):\n",
    "    model = Sequential()\n",
    "    model.add(Dense(256, activation='relu',input_dim=num_input))\n",
    "    model.add(Dense(128, activation='relu'))\n",
    "    model.add(Dense(64, activation='relu'))\n",
    "    model.add(Dense(32, activation='relu'))\n",
    "    #model.add(Dense(100, activation='relu',input_dim=num_input))\n",
    "    model.add(Dense(16, activation='relu'))\n",
    "    model.add(Dense(1))\n",
    "    \n",
    "    model.compile(optimizer='Nadam', loss='mse', metrics=['mae'])\n",
    "    return model"
   ]
  },
  {
   "cell_type": "code",
   "execution_count": 11,
   "id": "e7ed908c",
   "metadata": {},
   "outputs": [],
   "source": [
    "model = build_model(num_input=81)"
   ]
  },
  {
   "cell_type": "code",
   "execution_count": null,
   "id": "d931b836",
   "metadata": {
    "scrolled": true
   },
   "outputs": [
    {
     "name": "stdout",
     "output_type": "stream",
     "text": [
      "Epoch 1/200\n",
      "652/652 [==============================] - 1s 1ms/step - loss: 52.4607 - mae: 4.2870\n",
      "Epoch 2/200\n",
      "652/652 [==============================] - 1s 1ms/step - loss: 51.1487 - mae: 4.2312\n",
      "Epoch 3/200\n",
      "652/652 [==============================] - 1s 1ms/step - loss: 51.7923 - mae: 4.2886\n",
      "Epoch 4/200\n",
      "652/652 [==============================] - 1s 1ms/step - loss: 52.4441 - mae: 4.3338\n",
      "Epoch 5/200\n",
      "652/652 [==============================] - 1s 1ms/step - loss: 52.3017 - mae: 4.3193\n",
      "Epoch 6/200\n",
      "652/652 [==============================] - 1s 1ms/step - loss: 50.9828 - mae: 4.2513\n",
      "Epoch 7/200\n",
      "482/652 [=====================>........] - ETA: 0s - loss: 49.1773 - mae: 4.1898"
     ]
    }
   ],
   "source": [
    "model.fit(X_train, y_train, epochs=200, batch_size=16, shuffle=False,verbose=1)"
   ]
  },
  {
   "cell_type": "code",
   "execution_count": 1,
   "id": "173c4413",
   "metadata": {},
   "outputs": [
    {
     "ename": "NameError",
     "evalue": "name 'model' is not defined",
     "output_type": "error",
     "traceback": [
      "\u001b[1;31m---------------------------------------------------------------------------\u001b[0m",
      "\u001b[1;31mNameError\u001b[0m                                 Traceback (most recent call last)",
      "\u001b[1;32m<ipython-input-1-ed300d4c56b5>\u001b[0m in \u001b[0;36m<module>\u001b[1;34m\u001b[0m\n\u001b[1;32m----> 1\u001b[1;33m \u001b[0mmodel\u001b[0m\u001b[1;33m.\u001b[0m\u001b[0mevaluate\u001b[0m\u001b[1;33m(\u001b[0m\u001b[0mX_train\u001b[0m\u001b[1;33m,\u001b[0m \u001b[0my_train\u001b[0m\u001b[1;33m)\u001b[0m\u001b[1;33m\u001b[0m\u001b[1;33m\u001b[0m\u001b[0m\n\u001b[0m",
      "\u001b[1;31mNameError\u001b[0m: name 'model' is not defined"
     ]
    }
   ],
   "source": [
    "model.evaluate(X_train, y_train)"
   ]
  },
  {
   "cell_type": "code",
   "execution_count": null,
   "id": "b38086bd",
   "metadata": {},
   "outputs": [],
   "source": [
    "import matplotlib.pyplot as plt\n",
    "\n",
    "def plot_loss_curve(total_epoch=10, start=1):\n",
    "    plt.figure(figsize=(15, 5))\n",
    "    plt.plot(range(start, total_epoch +1), history.history['loss'][start-1:total_epoch], label='Train')\n",
    "    plt.plot(range(start, total_epoch +1), history.history['val_loss'][start-1:total_epoch], label='Validation')\n",
    "    plt.xlabel('Epochs')\n",
    "    plt.ylabel('mse')\n",
    "    plt.legend()\n",
    "    plt.show()"
   ]
  },
  {
   "cell_type": "code",
   "execution_count": null,
   "id": "686e3ff4",
   "metadata": {},
   "outputs": [],
   "source": [
    "y_pred = model.predict(X_train)"
   ]
  },
  {
   "cell_type": "code",
   "execution_count": null,
   "id": "6b407535",
   "metadata": {},
   "outputs": [],
   "source": [
    "from sklearn.metrics import mean_squared_error, r2_score, mean_absolute_error\n",
    "\n",
    "mae = mean_absolute_error(y_test, y_pred)\n",
    "mse = mean_squared_error(y_test, y_pred)\n",
    "r_squared = r2_score(y_test, y_pred)"
   ]
  },
  {
   "cell_type": "code",
   "execution_count": null,
   "id": "b6bd494b",
   "metadata": {},
   "outputs": [],
   "source": [
    "print('Mean_Absolute_Error:', mae)\n",
    "print('Mean_Squared_Error :' ,mse)\n",
    "print('Root_Mean_Squared_Error :' ,np.sqrt(mse))\n",
    "print('R_Square_value :',r_squared)"
   ]
  },
  {
   "cell_type": "code",
   "execution_count": null,
   "id": "3f68c5bc",
   "metadata": {},
   "outputs": [],
   "source": [
    "result_df = pd.read_csv('./2번/test.csv')"
   ]
  },
  {
   "cell_type": "code",
   "execution_count": null,
   "id": "a89ef466",
   "metadata": {},
   "outputs": [],
   "source": [
    "result_df = result_df[['feature_0', 'feature_1', 'feature_2', 'feature_3', 'feature_4',\n",
    "       'feature_5', 'feature_6', 'feature_7', 'feature_8', 'feature_9',\n",
    "       'feature_10', 'feature_11', 'feature_12', 'feature_13', 'feature_14',\n",
    "       'feature_15', 'feature_16', 'feature_17', 'feature_18', 'feature_19',\n",
    "       'feature_20', 'feature_21', 'feature_22', 'feature_23', 'feature_24',\n",
    "       'feature_25', 'feature_26', 'feature_27', 'feature_28', 'feature_29',\n",
    "       'feature_30', 'feature_31', 'feature_32', 'feature_33', 'feature_34',\n",
    "       'feature_35', 'feature_36', 'feature_37', 'feature_38', 'feature_39',\n",
    "       'feature_40', 'feature_41', 'feature_42', 'feature_43', 'feature_44',\n",
    "       'feature_45', 'feature_46', 'feature_47', 'feature_48', 'feature_49',\n",
    "       'feature_50', 'feature_51', 'feature_52', 'feature_53', 'feature_54',\n",
    "       'feature_55', 'feature_56', 'feature_57', 'feature_58', 'feature_59',\n",
    "       'feature_60', 'feature_61', 'feature_62', 'feature_63', 'feature_64',\n",
    "       'feature_65', 'feature_66', 'feature_67', 'feature_68', 'feature_69',\n",
    "       'feature_70', 'feature_71', 'feature_72', 'feature_73', 'feature_74',\n",
    "       'feature_75', 'feature_76', 'feature_77', 'feature_78', 'feature_79',\n",
    "       'feature_80']]\n",
    "X_result_df = np.log1p(result_df)\n",
    "result_df = robustScaler.transform(result_df)"
   ]
  },
  {
   "cell_type": "code",
   "execution_count": null,
   "id": "a47a4505",
   "metadata": {},
   "outputs": [],
   "source": [
    "result_df = standardScaler.transform(result_df)"
   ]
  },
  {
   "cell_type": "code",
   "execution_count": null,
   "id": "82bf92db",
   "metadata": {},
   "outputs": [],
   "source": [
    "\n",
    "result_df = robustScaler.transform(result_df)"
   ]
  },
  {
   "cell_type": "code",
   "execution_count": null,
   "id": "3a78b9e4",
   "metadata": {},
   "outputs": [],
   "source": [
    "y_result = model.predict(result_df)\n",
    "y_result"
   ]
  },
  {
   "cell_type": "code",
   "execution_count": null,
   "id": "4e56f03d",
   "metadata": {},
   "outputs": [],
   "source": [
    "pd.DataFrame(y_result, columns=['target']).to_csv('./2번/result_5.csv', index=False)"
   ]
  },
  {
   "cell_type": "code",
   "execution_count": null,
   "id": "b1cd9fe8",
   "metadata": {},
   "outputs": [],
   "source": []
  },
  {
   "cell_type": "code",
   "execution_count": null,
   "id": "23c480f4",
   "metadata": {},
   "outputs": [],
   "source": []
  },
  {
   "cell_type": "code",
   "execution_count": null,
   "id": "6261a160",
   "metadata": {},
   "outputs": [],
   "source": []
  },
  {
   "cell_type": "code",
   "execution_count": null,
   "id": "14647580",
   "metadata": {},
   "outputs": [],
   "source": [
    "from sklearn.preprocessing import MinMaxScaler\n",
    "\n",
    "mms = MinMaxScaler()\n",
    "X_train = mms.fit_transform(X_train)\n",
    "X_test = mms.transform(X_test)"
   ]
  },
  {
   "cell_type": "code",
   "execution_count": null,
   "id": "4e6ce134",
   "metadata": {},
   "outputs": [],
   "source": [
    "from sklearn.linear_model import Ridge\n",
    "ridge = Ridge(alpha=0.001).fit(X_train, y_train)"
   ]
  },
  {
   "cell_type": "code",
   "execution_count": null,
   "id": "77400d33",
   "metadata": {},
   "outputs": [],
   "source": [
    "\n",
    "print(\"훈련 세트 점수: {:.5f}\".format(ridge.score(X_train, y_train)))\n",
    "print(\"테스트 세트 점수: {:.5f}\".format(ridge.score(X_test, y_test)))"
   ]
  },
  {
   "cell_type": "code",
   "execution_count": null,
   "id": "2a1e4132",
   "metadata": {},
   "outputs": [],
   "source": [
    "y_pred = ridge.predict(X_test)"
   ]
  },
  {
   "cell_type": "code",
   "execution_count": null,
   "id": "9d4dee8f",
   "metadata": {},
   "outputs": [],
   "source": [
    "from sklearn.metrics import mean_squared_error, r2_score, mean_absolute_error\n",
    "\n",
    "mae = mean_absolute_error(y_test, y_pred)\n",
    "mse = mean_squared_error(y_test, y_pred)\n",
    "r_squared = r2_score(y_test, y_pred)"
   ]
  },
  {
   "cell_type": "code",
   "execution_count": null,
   "id": "3f7c3f58",
   "metadata": {},
   "outputs": [],
   "source": [
    "print('Mean_Absolute_Error:', mae)\n",
    "print('Mean_Squared_Error :' ,mse)\n",
    "print('Root_Mean_Squared_Error :' ,np.sqrt(mse))\n",
    "print('R_Square_value :',r_squared)"
   ]
  },
  {
   "cell_type": "code",
   "execution_count": null,
   "id": "f3bcabd8",
   "metadata": {},
   "outputs": [],
   "source": [
    "test_df = pd.read_csv('./2번/test.csv')"
   ]
  },
  {
   "cell_type": "code",
   "execution_count": null,
   "id": "bddd49fe",
   "metadata": {},
   "outputs": [],
   "source": [
    "test_df = test_df[['feature_0', 'feature_1', 'feature_2', 'feature_3', 'feature_4',\n",
    "       'feature_5', 'feature_6', 'feature_7', 'feature_8', 'feature_9',\n",
    "       'feature_10', 'feature_11', 'feature_12', 'feature_13', 'feature_14',\n",
    "       'feature_15', 'feature_16', 'feature_17', 'feature_18', 'feature_19',\n",
    "       'feature_20', 'feature_21', 'feature_22', 'feature_23', 'feature_24',\n",
    "       'feature_25', 'feature_26', 'feature_27', 'feature_28', 'feature_29',\n",
    "       'feature_30', 'feature_31', 'feature_32', 'feature_33', 'feature_34',\n",
    "       'feature_35', 'feature_36', 'feature_37', 'feature_38', 'feature_39',\n",
    "       'feature_40', 'feature_41', 'feature_42', 'feature_43', 'feature_44',\n",
    "       'feature_45', 'feature_46', 'feature_47', 'feature_48', 'feature_49',\n",
    "       'feature_50', 'feature_51', 'feature_52', 'feature_53', 'feature_54',\n",
    "       'feature_55', 'feature_56', 'feature_57', 'feature_58', 'feature_59',\n",
    "       'feature_60', 'feature_61', 'feature_62', 'feature_63', 'feature_64',\n",
    "       'feature_65', 'feature_66', 'feature_67', 'feature_68', 'feature_69',\n",
    "       'feature_70', 'feature_71', 'feature_72', 'feature_73', 'feature_74',\n",
    "       'feature_75', 'feature_76', 'feature_77', 'feature_78', 'feature_79',\n",
    "       'feature_80']]\n",
    "test_df = mms.transform(test_df)"
   ]
  },
  {
   "cell_type": "code",
   "execution_count": null,
   "id": "e259c11b",
   "metadata": {},
   "outputs": [],
   "source": [
    "test_result = ridge.predict(test_df)\n",
    "test_result"
   ]
  },
  {
   "cell_type": "code",
   "execution_count": null,
   "id": "a885e602",
   "metadata": {},
   "outputs": [],
   "source": [
    "pd.DataFrame(test_result, columns=['target']).to_csv('./2번/result.csv', index=False)"
   ]
  },
  {
   "cell_type": "code",
   "execution_count": null,
   "id": "bb72d7fc",
   "metadata": {},
   "outputs": [],
   "source": [
    "# statsmodels.api modeling 활용\n",
    "import statsmodels.api as sm"
   ]
  },
  {
   "cell_type": "code",
   "execution_count": null,
   "id": "2160e283",
   "metadata": {},
   "outputs": [],
   "source": [
    "X_train_sm = X_train\n",
    "X_train_sm = sm.add_constant(X_train_sm)\n",
    "\n",
    "lm_1 = sm.OLS(y_train,X_train_sm).fit()"
   ]
  },
  {
   "cell_type": "code",
   "execution_count": null,
   "id": "6d4e246e",
   "metadata": {},
   "outputs": [],
   "source": [
    "lm_1.params"
   ]
  },
  {
   "cell_type": "code",
   "execution_count": null,
   "id": "17bd2fa6",
   "metadata": {},
   "outputs": [],
   "source": [
    "print(lm_1.summary())"
   ]
  },
  {
   "cell_type": "markdown",
   "id": "8e208733",
   "metadata": {},
   "source": [
    "## Performing Linear Regression"
   ]
  },
  {
   "cell_type": "code",
   "execution_count": null,
   "id": "cafb4d07",
   "metadata": {},
   "outputs": [],
   "source": [
    "from sklearn.linear_model import LinearRegression"
   ]
  },
  {
   "cell_type": "code",
   "execution_count": null,
   "id": "eb8e4e5d",
   "metadata": {},
   "outputs": [],
   "source": [
    "# LinearRegression lr(Creating LinearRegression Object)\n",
    "lm = LinearRegression()"
   ]
  },
  {
   "cell_type": "code",
   "execution_count": null,
   "id": "ea44954e",
   "metadata": {},
   "outputs": [],
   "source": [
    "# fit the model to the training data\n",
    "lm.fit(X_train,y_train)"
   ]
  },
  {
   "cell_type": "markdown",
   "id": "a2330abc",
   "metadata": {},
   "source": [
    "## Model Evaluation"
   ]
  },
  {
   "cell_type": "code",
   "execution_count": null,
   "id": "8dd1a0d6",
   "metadata": {},
   "outputs": [],
   "source": [
    "# print the intercept(절편)\n",
    "print(lm.intercept_)"
   ]
  },
  {
   "cell_type": "code",
   "execution_count": null,
   "id": "aa1abe35",
   "metadata": {},
   "outputs": [],
   "source": [
    "lm.coef_"
   ]
  },
  {
   "cell_type": "code",
   "execution_count": null,
   "id": "7355a5b0",
   "metadata": {},
   "outputs": [],
   "source": [
    "# coefficient(상관계수)\n",
    "coeff_df = pd.DataFrame(lm.coef_, X_test.columns,columns=['Coefficient'])\n",
    "coeff_df"
   ]
  },
  {
   "cell_type": "code",
   "execution_count": null,
   "id": "85fcaf23",
   "metadata": {},
   "outputs": [],
   "source": [
    "y_pred = lm.predict(X_test)"
   ]
  },
  {
   "cell_type": "markdown",
   "id": "52488e4f",
   "metadata": {},
   "source": [
    "## Calculating Evalutaiton MSE, R^2"
   ]
  },
  {
   "cell_type": "markdown",
   "id": "a39a4d44",
   "metadata": {},
   "source": [
    "## Importing and Understanding Data"
   ]
  },
  {
   "cell_type": "code",
   "execution_count": null,
   "id": "64ae937e",
   "metadata": {},
   "outputs": [],
   "source": [
    "from sklearn.metrics import mean_squared_error, r2_score, mean_absolute_error\n",
    "\n",
    "mae = mean_absolute_error(y_test, y_pred)\n",
    "mse = mean_squared_error(y_test, y_pred)\n",
    "r_squared = r2_score(y_test, y_pred)"
   ]
  },
  {
   "cell_type": "markdown",
   "id": "83a2191b",
   "metadata": {},
   "source": [
    "## Importing and Understanding Data"
   ]
  },
  {
   "cell_type": "code",
   "execution_count": null,
   "id": "cc1f8914",
   "metadata": {
    "scrolled": false
   },
   "outputs": [],
   "source": [
    "print('Mean_Absolute_Error:', mae)\n",
    "print('Mean_Squared_Error :' ,mse)\n",
    "print('Root_Mean_Squared_Error :' ,np.sqrt(mse))\n",
    "print('R_Square_value :',r_squared)"
   ]
  },
  {
   "cell_type": "markdown",
   "id": "89f2dc09",
   "metadata": {},
   "source": [
    "## - Acutal vs Prediction 시각화"
   ]
  },
  {
   "cell_type": "code",
   "execution_count": null,
   "id": "d2aa0c4e",
   "metadata": {},
   "outputs": [],
   "source": [
    "#Actual vs Predicted\n",
    "c = [i for i in range(1,2057,1)]\n",
    "fig = plt.figure(figsize = (20,20))\n",
    "plt.plot(c,y_test, color=\"blue\", linewidth=0.2, linestyle=\"-\")\n",
    "plt.plot(c,y_pred, color=\"red\",  linewidth=0.2, linestyle=\"-\")\n",
    "fig.suptitle('Actual and Predicted', fontsize=20)              # Plot heading \n",
    "plt.xlabel('Index', fontsize=18)                               # X-label\n",
    "plt.ylabel('target', fontsize=16)                               # Y-label"
   ]
  },
  {
   "cell_type": "code",
   "execution_count": null,
   "id": "659e8da9",
   "metadata": {},
   "outputs": [],
   "source": [
    "y_test_200 = y_test.iloc[0:200]\n",
    "y_pred_200 = y_pred[0:200]"
   ]
  },
  {
   "cell_type": "code",
   "execution_count": null,
   "id": "08788374",
   "metadata": {},
   "outputs": [],
   "source": [
    "#Actual vs Predicted\n",
    "c = [i for i in range(1,201,1)]\n",
    "fig = plt.figure(figsize = (20,20))\n",
    "plt.plot(c,y_test_200, color=\"blue\", linewidth=0.5, linestyle=\"-\")\n",
    "plt.plot(c,y_pred_200, color=\"red\",  linewidth=0.5, linestyle=\"-\")\n",
    "fig.suptitle('Actual and Predicted', fontsize=20)              # Plot heading \n",
    "plt.xlabel('Index', fontsize=18)                               # X-label\n",
    "plt.ylabel('target', fontsize=16)    "
   ]
  },
  {
   "cell_type": "markdown",
   "id": "359e6604",
   "metadata": {},
   "source": [
    "### 최소-최대 스케일링(min-max scaling):\n",
    "\n",
    "$x^{(i)}_{norm} = \\dfrac{x^{(i)}-x_{min}}{x_{max}-x_{min}}$"
   ]
  },
  {
   "cell_type": "code",
   "execution_count": null,
   "id": "21de2261",
   "metadata": {},
   "outputs": [],
   "source": [
    "from sklearn.preprocessing import MinMaxScaler\n",
    "\n",
    "mms = MinMaxScaler()\n",
    "X_train_norm = mms.fit_transform(X_train)\n",
    "X_test_norm = mms.transform(X_test)"
   ]
  },
  {
   "cell_type": "code",
   "execution_count": null,
   "id": "65e23efd",
   "metadata": {},
   "outputs": [],
   "source": [
    "X_train_norm"
   ]
  },
  {
   "cell_type": "markdown",
   "id": "32c3f575",
   "metadata": {},
   "source": [
    "## 표준화(standardization):\n",
    "\n",
    "$x^{(i)}_{std} = \\dfrac{x^{(i)}-\\mu_x}{\\sigma_x}$"
   ]
  },
  {
   "cell_type": "code",
   "execution_count": null,
   "id": "34f36099",
   "metadata": {},
   "outputs": [],
   "source": [
    "from sklearn.preprocessing import StandardScaler\n",
    "\n",
    "stdsc = StandardScaler()\n",
    "X_train_std = stdsc.fit_transform(X_train)\n",
    "X_test_std = stdsc.transform(X_test)\n",
    "X_train_std"
   ]
  },
  {
   "cell_type": "markdown",
   "id": "781f5b0c",
   "metadata": {},
   "source": [
    "### Robust Scaler"
   ]
  },
  {
   "cell_type": "code",
   "execution_count": null,
   "id": "d690d73f",
   "metadata": {},
   "outputs": [],
   "source": [
    "from sklearn.preprocessing import RobustScaler\n",
    "\n",
    "rbs = RobustScaler()\n",
    "X_train_robust = rbs.fit_transform(X_train)\n",
    "X_test_robust = rbs.transform(X_test)"
   ]
  },
  {
   "cell_type": "code",
   "execution_count": null,
   "id": "25b86e36",
   "metadata": {},
   "outputs": [],
   "source": [
    "lm_norm = LinearRegression()\n",
    "lm_norm.fit(X_train_std,y_train)\n",
    "lm_std = LinearRegression()\n",
    "lm_std.fit(X_train_std,y_train)\n",
    "lm_robust = LinearRegression()\n",
    "lm_robust.fit(X_train_robust,y_train)"
   ]
  },
  {
   "cell_type": "code",
   "execution_count": null,
   "id": "2d858928",
   "metadata": {},
   "outputs": [],
   "source": [
    "y_pred_norm = lm_norm.predict(X_test_norm)\n",
    "y_pred_std = lm_std.predict(X_test_std)\n",
    "y_pred_robust = lm_robust.predict(X_test_robust)"
   ]
  },
  {
   "cell_type": "code",
   "execution_count": null,
   "id": "906ea6b0",
   "metadata": {},
   "outputs": [],
   "source": [
    "mse_norm = mean_squared_error(y_test, y_pred_norm)\n",
    "mse_std = mean_squared_error(y_test, y_pred_std)\n",
    "mse_robust = mean_squared_error(y_test, y_pred_robust)"
   ]
  },
  {
   "cell_type": "code",
   "execution_count": null,
   "id": "d6f3d236",
   "metadata": {},
   "outputs": [],
   "source": [
    "print(np.sqrt(mse_norm))\n",
    "print(np.sqrt(mse_std))\n",
    "print(np.sqrt(mse_robust))"
   ]
  },
  {
   "cell_type": "code",
   "execution_count": null,
   "id": "9906e31e",
   "metadata": {},
   "outputs": [],
   "source": []
  },
  {
   "cell_type": "code",
   "execution_count": null,
   "id": "ed5ea5a5",
   "metadata": {},
   "outputs": [],
   "source": []
  },
  {
   "cell_type": "code",
   "execution_count": null,
   "id": "520ebb9f",
   "metadata": {},
   "outputs": [],
   "source": []
  },
  {
   "cell_type": "markdown",
   "id": "1b0c3018",
   "metadata": {},
   "source": [
    "## trainset전체데이터 모델"
   ]
  },
  {
   "cell_type": "code",
   "execution_count": null,
   "id": "80586e18",
   "metadata": {},
   "outputs": [],
   "source": [
    "fuel_result_df = pd.read_csv('dataset/test.csv')"
   ]
  },
  {
   "cell_type": "code",
   "execution_count": null,
   "id": "dff585fc",
   "metadata": {
    "scrolled": false
   },
   "outputs": [],
   "source": [
    "fuel_result_df"
   ]
  },
  {
   "cell_type": "code",
   "execution_count": null,
   "id": "96d73765",
   "metadata": {},
   "outputs": [],
   "source": [
    "# feature variable to X\n",
    "X_new = fuel_df[['feature_0', 'feature_1', 'feature_2', 'feature_3', 'feature_4',\n",
    "       'feature_5', 'feature_6', 'feature_7', 'feature_9',\n",
    "       'feature_10', 'feature_12', 'feature_13', 'feature_14']]\n",
    "\n",
    "# response target variable to y\n",
    "y_new = fuel_df['target']"
   ]
  },
  {
   "cell_type": "code",
   "execution_count": null,
   "id": "a07c685b",
   "metadata": {},
   "outputs": [],
   "source": [
    "lm_result = LinearRegression()"
   ]
  },
  {
   "cell_type": "code",
   "execution_count": null,
   "id": "5ebb54a5",
   "metadata": {},
   "outputs": [],
   "source": [
    "lm_result.fit(X_new,y_new)"
   ]
  },
  {
   "cell_type": "code",
   "execution_count": null,
   "id": "7ca0ef9b",
   "metadata": {},
   "outputs": [],
   "source": [
    "X_result = fuel_result_df[['feature_0', 'feature_1', 'feature_2', 'feature_3', 'feature_4',\n",
    "       'feature_5', 'feature_6', 'feature_7', 'feature_9',\n",
    "       'feature_10', 'feature_12', 'feature_13', 'feature_14']]"
   ]
  },
  {
   "cell_type": "code",
   "execution_count": null,
   "id": "5afc95d7",
   "metadata": {},
   "outputs": [],
   "source": [
    "y_result = lm_result.predict(X_result)"
   ]
  },
  {
   "cell_type": "code",
   "execution_count": null,
   "id": "a0a16922",
   "metadata": {},
   "outputs": [],
   "source": [
    "print(y_result)"
   ]
  },
  {
   "cell_type": "code",
   "execution_count": null,
   "id": "9cb4ddf1",
   "metadata": {},
   "outputs": [],
   "source": [
    "y_result = lm.predict(X_result)"
   ]
  },
  {
   "cell_type": "code",
   "execution_count": null,
   "id": "c1414a70",
   "metadata": {},
   "outputs": [],
   "source": [
    "y_result"
   ]
  },
  {
   "cell_type": "code",
   "execution_count": null,
   "id": "88aedf21",
   "metadata": {},
   "outputs": [],
   "source": [
    "y_result = lm_norm.predict(X_result)"
   ]
  },
  {
   "cell_type": "code",
   "execution_count": null,
   "id": "57623b6f",
   "metadata": {},
   "outputs": [],
   "source": [
    "y_result"
   ]
  },
  {
   "cell_type": "code",
   "execution_count": null,
   "id": "0a22ed2f",
   "metadata": {},
   "outputs": [],
   "source": []
  },
  {
   "cell_type": "code",
   "execution_count": null,
   "id": "9bf032e4",
   "metadata": {},
   "outputs": [],
   "source": []
  },
  {
   "cell_type": "code",
   "execution_count": null,
   "id": "82d9fc95",
   "metadata": {},
   "outputs": [],
   "source": []
  },
  {
   "cell_type": "code",
   "execution_count": null,
   "id": "11f84f7a",
   "metadata": {},
   "outputs": [],
   "source": []
  },
  {
   "cell_type": "code",
   "execution_count": null,
   "id": "9e9625df",
   "metadata": {},
   "outputs": [],
   "source": []
  },
  {
   "cell_type": "code",
   "execution_count": null,
   "id": "d1d2787d",
   "metadata": {},
   "outputs": [],
   "source": [
    "fuel_result_df['target'] = pd.Series(y_result)"
   ]
  },
  {
   "cell_type": "code",
   "execution_count": null,
   "id": "18289a22",
   "metadata": {},
   "outputs": [],
   "source": [
    "fuel_result_df"
   ]
  },
  {
   "cell_type": "code",
   "execution_count": null,
   "id": "9d99b08e",
   "metadata": {},
   "outputs": [],
   "source": [
    "fuel_result_df['target'].to_csv('dataset/result.csv',index=False)"
   ]
  },
  {
   "cell_type": "code",
   "execution_count": null,
   "id": "a8579b47",
   "metadata": {},
   "outputs": [],
   "source": []
  }
 ],
 "metadata": {
  "kernelspec": {
   "display_name": "Python 3",
   "language": "python",
   "name": "python3"
  },
  "language_info": {
   "codemirror_mode": {
    "name": "ipython",
    "version": 3
   },
   "file_extension": ".py",
   "mimetype": "text/x-python",
   "name": "python",
   "nbconvert_exporter": "python",
   "pygments_lexer": "ipython3",
   "version": "3.8.8"
  }
 },
 "nbformat": 4,
 "nbformat_minor": 5
}
